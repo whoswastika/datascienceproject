{
 "cells": [
  {
   "cell_type": "code",
   "execution_count": 1,
   "id": "a65d434a",
   "metadata": {},
   "outputs": [],
   "source": [
    "import os\n",
    "os.environ[\"MLFLOW_TRACKING_URL\"]=\"https://dagshub.com/whoswastika/datascienceproject.mlflow\"\n",
    "os.environ[\"MLFLOW_TRACKING_USERNAME\"]=\"whoswastika\"\n",
    "os.environ[\"MLFLOW_TRACKING_PASSWORD\"]=\"6b150e5f4317b1a63054fb99a38c885c512a6356\"\n"
   ]
  },
  {
   "cell_type": "code",
   "execution_count": 2,
   "id": "178773f0",
   "metadata": {},
   "outputs": [],
   "source": [
    "import os\n"
   ]
  },
  {
   "cell_type": "code",
   "execution_count": 3,
   "id": "3b1a139b",
   "metadata": {},
   "outputs": [
    {
     "data": {
      "text/plain": [
       "'c:\\\\Users\\\\Admin\\\\OneDrive\\\\Desktop\\\\MLOPS\\\\datascienceproject\\\\research'"
      ]
     },
     "execution_count": 3,
     "metadata": {},
     "output_type": "execute_result"
    }
   ],
   "source": [
    "%pwd"
   ]
  },
  {
   "cell_type": "code",
   "execution_count": 4,
   "id": "d9eddcdf",
   "metadata": {},
   "outputs": [],
   "source": [
    "os.chdir(\"../\")"
   ]
  },
  {
   "cell_type": "code",
   "execution_count": 5,
   "id": "5fee5a8b",
   "metadata": {},
   "outputs": [
    {
     "data": {
      "text/plain": [
       "'c:\\\\Users\\\\Admin\\\\OneDrive\\\\Desktop\\\\MLOPS\\\\datascienceproject'"
      ]
     },
     "execution_count": 5,
     "metadata": {},
     "output_type": "execute_result"
    }
   ],
   "source": [
    "%pwd"
   ]
  },
  {
   "cell_type": "code",
   "execution_count": 6,
   "id": "0f8b2eaf",
   "metadata": {},
   "outputs": [],
   "source": [
    "from dataclasses import dataclass\n",
    "from pathlib import Path\n",
    "\n",
    "@dataclass\n",
    "class ModelEvaluationConfig:\n",
    "    root_dir: Path\n",
    "    test_data_path: Path\n",
    "    model_path: Path\n",
    "    all_params: dict\n",
    "    metric_file_name: Path\n",
    "    target_column : str\n",
    "    mlflow_uri : str"
   ]
  },
  {
   "cell_type": "code",
   "execution_count": 7,
   "id": "f114bd02",
   "metadata": {},
   "outputs": [],
   "source": [
    "from src.datascience.constants import *\n",
    "from src.datascience.utils.common import read_yaml, create_directories,save_json"
   ]
  },
  {
   "cell_type": "code",
   "execution_count": 8,
   "id": "787e6d6d",
   "metadata": {},
   "outputs": [],
   "source": [
    "class ConfigurationManager:\n",
    "    def __init__ (\n",
    "        self,\n",
    "        config_filepath = CONFIG_FILE_PATH,\n",
    "        params_filepath = PARAMS_FILE_PATH,\n",
    "        schema_filepath = SCHEMA_FILE_PATH):\n",
    "        \n",
    "        self.config= read_yaml(config_filepath)\n",
    "        self.params= read_yaml(params_filepath)\n",
    "        self.schema= read_yaml(schema_filepath)\n",
    "    \n",
    "    \n",
    "        create_directories([self.config.artifacts_root])\n",
    "        \n",
    "    def get_model_evaluation_config(self) -> ModelEvaluationConfig:\n",
    "        config = self.config.model_evaluation\n",
    "        params= self.params.ElasticNet\n",
    "        schema = self.schema.TARGET_COLUMN\n",
    "        \n",
    "        create_directories([config.root_dir])\n",
    "        \n",
    "        model_evaluation_config= ModelEvaluationConfig(\n",
    "            root_dir= config.root_dir,\n",
    "            test_data_path=config.test_data_path,\n",
    "            model_path= config.model_path,\n",
    "            all_params=params,\n",
    "            metric_file_name=config.metric_file_name,\n",
    "            target_column= schema.name,\n",
    "            mlflow_uri=\"https://dagshub.com/whoswastika/datascienceproject.mlflow\"\n",
    "            \n",
    "        )\n",
    "        \n",
    "        return model_evaluation_config"
   ]
  },
  {
   "cell_type": "code",
   "execution_count": 9,
   "id": "871919d5",
   "metadata": {},
   "outputs": [],
   "source": [
    "import os\n",
    "import pandas as pd\n",
    "from sklearn.metrics import mean_squared_error,mean_absolute_error, r2_score\n",
    "from urllib.parse import urlparse\n",
    "import mlflow\n",
    "import mlflow.sklearn\n",
    "import numpy as np\n",
    "import joblib"
   ]
  },
  {
   "cell_type": "code",
   "execution_count": 16,
   "id": "b2c65301",
   "metadata": {},
   "outputs": [],
   "source": [
    "class ModelEvaluation:\n",
    "    def __init__(self,config: ModelEvaluationConfig):\n",
    "        self.config = config\n",
    "        \n",
    "    def eval_metrics(self,actual,pred):\n",
    "        rmse = np.sqrt(mean_squared_error(actual,pred))\n",
    "        mae = mean_absolute_error(actual, pred)\n",
    "        r2 = r2_score(actual,pred)\n",
    "        return rmse,mae,r2\n",
    "    \n",
    "    def log_into_mlflow(self):\n",
    "        \n",
    "        test_data = pd.read_csv(self.config.test_data_path)\n",
    "        model = joblib.load(self.config.model_path)\n",
    "        \n",
    "        test_x = test_data.drop([self.config.target_column],axis=1)\n",
    "        test_y = test_data[[self.config.target_column]]\n",
    "        \n",
    "        mlflow.set_registry_uri(self.config.mlflow_uri)\n",
    "        mlflow.set_experiment(\"datascienceproject\")\n",
    "        tracking_url_type_store = urlparse(mlflow.get_tracking_uri()).scheme\n",
    "        \n",
    "        from mlflow.models.signature import infer_signature\n",
    "        signature = infer_signature(test_x,model.predict(test_x))\n",
    "        input_example = test_x.iloc[:5]\n",
    "        \n",
    "        with mlflow.start_run():\n",
    "            \n",
    "            predicted_qualities = model.predict(test_x)\n",
    "            \n",
    "            (rmse,mae,r2) = self.eval_metrics(test_y, predicted_qualities)\n",
    "            \n",
    "            scores = {\"rmse\": rmse, \"mae\": mae, \"r2\":r2}\n",
    "            save_json(path=Path(self.config.metric_file_name),data=scores)\n",
    "            \n",
    "            mlflow.log_params(self.config.all_params)\n",
    "            \n",
    "            mlflow.log_metric(\"rmse\",rmse)\n",
    "            mlflow.log_metric(\"r2\",r2)\n",
    "            mlflow.log_metric(\"mae\",mae)\n",
    "            \n",
    "            # mlflow.sklearn.log_model(\n",
    "            #     sk_model=model,\n",
    "            #     artifact_path= \"model\",\n",
    "            #     registered_model_name=\"ElasticnetModel\",\n",
    "            #     signature=signature,\n",
    "            #     input_example=input_example\n",
    "                \n",
    "            # )\n",
    "            \n",
    "            if tracking_url_type_store != \"file\":\n",
    "                mlflow.sklearn.log_model(model,\"model\", registered_model_name=\"ElasticnetModel\")\n",
    "            else:\n",
    "                mlflow.sklearn.log_model(model, \"model\")\n",
    "    \n",
    "    \n",
    "    \n",
    "    \n",
    "    \n",
    "    ######################################################chatttgpptttt#######################################################################################3\n",
    "    # def log_into_mlflow(self):\n",
    "    #      test_data = pd.read_csv(self.config.test_data_path)\n",
    "    #      model = joblib.load(self.config.model_path)\n",
    "\n",
    "    #      test_x = test_data.drop([self.config.target_column], axis=1)\n",
    "    #      test_y = test_data[[self.config.target_column]]\n",
    "\n",
    "    # # Make sure MLflow points to DagsHub\n",
    "    #      mlflow.set_tracking_uri(self.config.mlflow_uri)\n",
    "    #      mlflow.set_experiment(\"datascienceproject\")  # Explicit experiment name\n",
    "\n",
    "    #      tracking_url_type_store = urlparse(mlflow.get_tracking_uri()).scheme\n",
    "\n",
    "    # # Create signature & input example to avoid warnings\n",
    "    #      from mlflow.models.signature import infer_signature\n",
    "    #      signature = infer_signature(test_x, model.predict(test_x))\n",
    "    #      input_example = test_x.iloc[:5]\n",
    "\n",
    "    #     with mlflow.start_run():\n",
    "            \n",
    "    #         predicted_qualities = model.predict(test_x)\n",
    "\n",
    "    #          (rmse, mae, r2) = self.eval_metrics(test_y, predicted_qualities)\n",
    "\n",
    "    #     # Save metrics locally\n",
    "    #            scores = {\"rmse\": rmse, \"mae\": mae, \"r2\": r2}\n",
    "    #          save_json(path=Path(self.config.metric_file_name), data=scores)\n",
    "\n",
    "    #     # Log params and metrics to MLflow\n",
    "    #     mlflow.log_params(self.config.all_params)\n",
    "    #     mlflow.log_metric(\"rmse\", rmse)\n",
    "    #     mlflow.log_metric(\"mae\", mae)\n",
    "    #     mlflow.log_metric(\"r2\", r2)\n",
    "\n",
    "    #     # Log model to MLflow/DagsHub with signature\n",
    "    #     mlflow.sklearn.log_model(\n",
    "    #         sk_model=model,\n",
    "    #         artifact_path=\"model\",  # Required for experiments\n",
    "    #         registered_model_name=\"ElasticnetModel\",\n",
    "    #         signature=signature,\n",
    "    #         input_example=input_example\n",
    "    #     )\n",
    "    # # Load test data and model\n",
    "     \n",
    "\n",
    "                \n",
    "                \n",
    "            \n",
    "        "
   ]
  },
  {
   "cell_type": "code",
   "execution_count": 17,
   "id": "68d88e4c",
   "metadata": {},
   "outputs": [
    {
     "name": "stdout",
     "output_type": "stream",
     "text": [
      "[2025-08-12 12:36:13,704: common: yaml file:config\\config.yaml loaded successfully]\n",
      "[2025-08-12 12:36:13,708: common: yaml file:params.yaml loaded successfully]\n",
      "[2025-08-12 12:36:13,714: common: yaml file:schema.yaml loaded successfully]\n",
      "[2025-08-12 12:36:13,717: common: created directory at: artifacts_root]\n",
      "[2025-08-12 12:36:13,720: common: created directory at: artifacts/model_evaluation]\n",
      "[2025-08-12 12:36:13,874: common: json file saved at:artifacts\\model_evaluation\\metrics.json]\n"
     ]
    },
    {
     "name": "stderr",
     "output_type": "stream",
     "text": [
      "2025/08/12 12:36:13 WARNING mlflow.models.model: `artifact_path` is deprecated. Please use `name` instead.\n",
      "2025/08/12 12:36:19 WARNING mlflow.models.model: Model logged without a signature and input example. Please set `input_example` parameter when logging the model to auto infer the model signature.\n"
     ]
    }
   ],
   "source": [
    "try:\n",
    "    config = ConfigurationManager()\n",
    "    model_evaluation_config = config.get_model_evaluation_config()\n",
    "    model_evaluation = ModelEvaluation(config=model_evaluation_config)\n",
    "    model_evaluation.log_into_mlflow()\n",
    "except Exception as e:\n",
    "    raise e "
   ]
  },
  {
   "cell_type": "code",
   "execution_count": null,
   "id": "ba43e983",
   "metadata": {},
   "outputs": [],
   "source": []
  }
 ],
 "metadata": {
  "kernelspec": {
   "display_name": "venv",
   "language": "python",
   "name": "python3"
  },
  "language_info": {
   "codemirror_mode": {
    "name": "ipython",
    "version": 3
   },
   "file_extension": ".py",
   "mimetype": "text/x-python",
   "name": "python",
   "nbconvert_exporter": "python",
   "pygments_lexer": "ipython3",
   "version": "3.13.2"
  }
 },
 "nbformat": 4,
 "nbformat_minor": 5
}
